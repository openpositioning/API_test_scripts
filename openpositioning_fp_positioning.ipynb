{
 "cells": [
  {
   "cell_type": "markdown",
   "id": "a133fcc0-ca6a-4588-9e75-95f1b148d556",
   "metadata": {},
   "source": [
    "# WiFi positioning\n",
    "This Notebook intends to demonstrate how to prepare and request a position from a WiFi fingerprint using the openpositioning RESTFull API."
   ]
  },
  {
   "cell_type": "code",
   "execution_count": null,
   "id": "4f3e3b32-b79a-4c15-8e29-6a6cc9874b5b",
   "metadata": {},
   "outputs": [],
   "source": [
    "import requests\n",
    "import json"
   ]
  },
  {
   "cell_type": "markdown",
   "id": "454c5a51-d9af-497e-8c52-d09b24bbee08",
   "metadata": {},
   "source": [
    "## Extracting Wi-Fi Scan Data and Sending to an API\n",
    "\n",
    "This demonstrates how to extract Wi-Fi scan data from the protobuf file generated and send it to the Positioning API endpoint to make a POST request for processing.\n",
    "\n",
    "###  Import Libraries and Load Protobuf Data\n",
    "\n",
    "First, we need to import necessary libraries and load our protobuf data from a file."
   ]
  },
  {
   "cell_type": "code",
   "execution_count": null,
   "id": "31ed8223-d1cc-4234-abbf-04878ee07a79",
   "metadata": {},
   "outputs": [],
   "source": [
    "import traj_pb2 as Traj \n",
    "\n",
    "# Specify the path to the protobuf file containing the trajectory data\n",
    "file_path = '919.pkt'\n",
    "\n",
    "# Create an instance of the Trajectory class\n",
    "trajectory = Traj.Trajectory()\n",
    "with open(file_path, 'rb') as file:\n",
    "    trajectory.ParseFromString(file.read())"
   ]
  },
  {
   "cell_type": "markdown",
   "id": "2151c73e",
   "metadata": {},
   "source": [
    "Show the content of the file"
   ]
  },
  {
   "cell_type": "code",
   "execution_count": null,
   "id": "bf80d7fd-e3ba-43b6-9151-ebe9f043b4a9",
   "metadata": {},
   "outputs": [],
   "source": [
    "print(str(trajectory)[:1000])"
   ]
  },
  {
   "cell_type": "markdown",
   "id": "787c2604-3bb6-488c-b86f-b9a6cbcab3c9",
   "metadata": {},
   "source": [
    "### Extract Wi-Fi Scan Data\n",
    "\n",
    "Next, we'll extract the first set of Wi-Fi scan data from our protobuf object and prepare it for the API request."
   ]
  },
  {
   "cell_type": "code",
   "execution_count": null,
   "id": "62a82e0f-7c16-4068-851d-21a06b087229",
   "metadata": {},
   "outputs": [],
   "source": [
    "# Accessing the first set of Wi-Fi scan data\n",
    "first_wifi_scan = trajectory.wifi_data[0].mac_scans\n",
    "\n",
    "# Iterating through each scan to extract MAC addresses and RSSI values\n",
    "wf_dict = {}\n",
    "for idx, scan in enumerate(first_wifi_scan):\n",
    "    prop_key = str(scan.mac)\n",
    "    wf_dict[prop_key] = scan.rssi\n",
    "    \n",
    "json_wifi_features = json.dumps({\"wf\": wf_dict})"
   ]
  },
  {
   "cell_type": "markdown",
   "id": "a75cbe2f",
   "metadata": {},
   "source": [
    "Displaying the WiFi data"
   ]
  },
  {
   "cell_type": "code",
   "execution_count": null,
   "id": "41602880-25e7-43cd-8158-0af6f4ae2d2b",
   "metadata": {},
   "outputs": [],
   "source": [
    "print(json_wifi_features)"
   ]
  },
  {
   "cell_type": "markdown",
   "id": "05a70a88-d0d7-45b9-a73e-74d4d19d37e7",
   "metadata": {},
   "source": [
    "First Wi-Fi Scan: `trajectory.wifi_data[0].mac_scans` specifically accesses the mac_scans of the first item in `trajectory.wifi_data`. This means we're only working with the Wi-Fi scan data collected at the first timestamp. To access more, you simply change the index and access the required data."
   ]
  },
  {
   "cell_type": "markdown",
   "id": "57bf27a4-efc5-4bac-8db2-155d68dbe8af",
   "metadata": {},
   "source": [
    "### Send Data to API\n",
    "Finally, we'll send the prepared Wi-Fi scan data to an API endpoint."
   ]
  },
  {
   "cell_type": "code",
   "execution_count": null,
   "id": "75d5b9f7-1aa1-45b4-baca-467e3f1672a6",
   "metadata": {},
   "outputs": [],
   "source": [
    "headers = {\n",
    "    'accept': 'application/json',\n",
    "    'Content-Type': 'application/json',\n",
    "}\n",
    "\n",
    "response = requests.post('https://openpositioning.org/api/position/fine', headers=headers,data=json_wifi_features) \n",
    "\n",
    "if response.status_code == 200:\n",
    "    print(\"Success:\", response.text)\n",
    "elif response.status_code == 422:\n",
    "    print(\"Validation Error:\", response.json())\n",
    "else:\n",
    "    print(\"Response Code:\", response.status_code, response.text)"
   ]
  },
  {
   "cell_type": "markdown",
   "id": "b40ed844",
   "metadata": {},
   "source": [
    "Request each FP of the trajectory:"
   ]
  },
  {
   "cell_type": "code",
   "execution_count": null,
   "id": "1e5545f1",
   "metadata": {},
   "outputs": [],
   "source": [
    "positions = {}\n",
    "for wifi_index, wifi_data in enumerate(trajectory.wifi_data):\n",
    "    wifi_scan = wifi_data.mac_scans\n",
    "    # Iterating through each scan to extract MAC addresses and RSSI values\n",
    "    wf_dict = {str(scan.mac): scan.rssi for scan in wifi_scan}\n",
    "        \n",
    "    json_wifi_features = json.dumps({\"wf\": wf_dict})\n",
    "    \n",
    "    response = requests.post('https://openpositioning.org/api/position/fine', headers=headers,data=json_wifi_features) \n",
    "\n",
    "    if response.status_code == 200:\n",
    "        print(\"Success:\", response.text)\n",
    "        positions[wifi_index] = json.loads(response.text)\n",
    "    elif response.status_code == 422:\n",
    "        print(\"Validation Error:\", response.json())\n",
    "    else:\n",
    "        print(\"Response Code:\", response.status_code, response.text)"
   ]
  }
 ],
 "metadata": {
  "kernelspec": {
   "display_name": "Python 3 (ipykernel)",
   "language": "python",
   "name": "python3"
  },
  "language_info": {
   "codemirror_mode": {
    "name": "ipython",
    "version": 3
   },
   "file_extension": ".py",
   "mimetype": "text/x-python",
   "name": "python",
   "nbconvert_exporter": "python",
   "pygments_lexer": "ipython3",
   "version": "3.10.8"
  }
 },
 "nbformat": 4,
 "nbformat_minor": 5
}
